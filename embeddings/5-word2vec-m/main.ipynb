{
 "cells": [
  {
   "cell_type": "code",
   "execution_count": null,
   "id": "017cd511",
   "metadata": {},
   "outputs": [],
   "source": [
    "import pandas as pd\n",
    "import spacy\n",
    "from gensim.models import Word2Vec\n",
    "from tqdm import tqdm\n",
    "import numpy as np"
   ]
  },
  {
   "cell_type": "code",
   "execution_count": null,
   "id": "291d8bfe",
   "metadata": {},
   "outputs": [],
   "source": [
    "# 1. Load CSV\n",
    "df = pd.read_csv(\"../../data/En-Ba-Dataset(20k_4)/dataset_cleaned.csv\")\n",
    "texts = df[\"Sentence\"].astype(str).tolist()"
   ]
  },
  {
   "cell_type": "code",
   "execution_count": null,
   "id": "2cc82540",
   "metadata": {},
   "outputs": [],
   "source": [
    "# 2. Load spaCy tokenizer\n",
    "nlp = spacy.load(\"en_core_web_sm\", disable=[\"parser\", \"ner\", \"tagger\"])\n",
    "\n",
    "\n",
    "def tokenize(text):\n",
    "    doc = nlp(text)\n",
    "    return [token.text for token in doc if not token.is_space]"
   ]
  },
  {
   "cell_type": "code",
   "execution_count": null,
   "id": "de2e1b1d",
   "metadata": {},
   "outputs": [],
   "source": [
    "# 3. Tokenize \n",
    "sentences = [tokenize(t) for t in tqdm(texts, desc=\"Tokenizing\")]"
   ]
  },
  {
   "cell_type": "code",
   "execution_count": null,
   "id": "028b15d6",
   "metadata": {},
   "outputs": [],
   "source": [
    "# 4. Train Word2Vec model\n",
    "\n",
    "w2v_model = Word2Vec(\n",
    "    sentences=sentences,\n",
    "    vector_size=300,\n",
    "    window=5,\n",
    "    min_count=5,\n",
    "    workers=4,\n",
    "    sg=1,\n",
    ")"
   ]
  },
  {
   "cell_type": "code",
   "execution_count": null,
   "id": "7c5f11ea",
   "metadata": {},
   "outputs": [],
   "source": [
    "# 5. Sentence embeddings (mean of word vectors)\n",
    "def sentence_embedding(tokens, model, dim=300):\n",
    "    vectors = [model.wv[word] for word in tokens if word in model.wv]\n",
    "    if not vectors:\n",
    "        return np.zeros(dim)\n",
    "    return np.mean(vectors, axis=0)"
   ]
  },
  {
   "cell_type": "code",
   "execution_count": null,
   "id": "2f9dec8a",
   "metadata": {},
   "outputs": [],
   "source": [
    "# 6. Embeddings for all sentences\n",
    "sentence_vectors = [\n",
    "    sentence_embedding(s, w2v_model, 300) for s in tqdm(sentences, desc=\"Embedding Sentences\")\n",
    "]"
   ]
  },
  {
   "cell_type": "code",
   "execution_count": null,
   "id": "2a94d595",
   "metadata": {},
   "outputs": [],
   "source": [
    "# 7. Save to CSV (expanded columns)\n",
    "sentence_embeddings_df = pd.DataFrame(sentence_vectors)\n",
    "sentence_embeddings_df.to_csv(\"embeddings.csv\", index=False)"
   ]
  }
 ],
 "metadata": {
  "kernelspec": {
   "display_name": "venv",
   "language": "python",
   "name": "python3"
  },
  "language_info": {
   "codemirror_mode": {
    "name": "ipython",
    "version": 3
   },
   "file_extension": ".py",
   "mimetype": "text/x-python",
   "name": "python",
   "nbconvert_exporter": "python",
   "pygments_lexer": "ipython3",
   "version": "3.12.2"
  }
 },
 "nbformat": 4,
 "nbformat_minor": 5
}
