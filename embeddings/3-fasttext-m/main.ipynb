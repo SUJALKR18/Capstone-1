{
 "cells": [
  {
   "cell_type": "code",
   "execution_count": null,
   "id": "e0e90620",
   "metadata": {},
   "outputs": [],
   "source": [
    "import pandas as pd\n",
    "import fasttext\n",
    "import numpy as np\n",
    "from sklearn.preprocessing import normalize\n",
    "from sentence_transformers import SentenceTransformer\n",
    "from tqdm import tqdm\n"
   ]
  },
  {
   "cell_type": "code",
   "execution_count": null,
   "id": "8e16b35a",
   "metadata": {},
   "outputs": [],
   "source": [
    "# --- Load dataset ---\n",
    "df = pd.read_csv(\"../../data/En-Ba-Dataset(20k_4)/dataset_cleaned.csv\")\n",
    "texts = df[\"Sentence\"].astype(str).tolist()\n"
   ]
  },
  {
   "cell_type": "code",
   "execution_count": null,
   "id": "1613b2fa",
   "metadata": {},
   "outputs": [],
   "source": [
    "# --- Prepare FastText custom corpus ---\n",
    "with open(\"texts_for_ft.txt\", \"w\", encoding=\"utf-8\") as f:\n",
    "    for line in texts:\n",
    "        f.write(line + \"\\n\")"
   ]
  },
  {
   "cell_type": "code",
   "execution_count": null,
   "id": "f28b3aea",
   "metadata": {},
   "outputs": [],
   "source": [
    "# --- Load pretrained FastText and train custom ---\n",
    "ft_en = fasttext.load_model(\"cc.en.300.bin\")\n",
    "ft_custom = fasttext.train_unsupervised(\n",
    "    \"texts_for_ft.txt\", model=\"skipgram\", dim=100, minn=3, maxn=6\n",
    ")"
   ]
  },
  {
   "cell_type": "code",
   "execution_count": null,
   "id": "b9b93019",
   "metadata": {},
   "outputs": [],
   "source": [
    "# --- Load SBERT model for sentences ---\n",
    "sbert_model = SentenceTransformer('all-MiniLM-L6-v2')\n"
   ]
  },
  {
   "cell_type": "code",
   "execution_count": null,
   "id": "3b029b1c",
   "metadata": {},
   "outputs": [],
   "source": [
    "# --- Word vector fallback function ---\n",
    "def get_word_vector(word):\n",
    "    try:\n",
    "        vec = ft_en.get_word_vector(word)\n",
    "        if np.all(vec == 0):\n",
    "            vec = ft_custom.get_word_vector(word)\n",
    "    except:\n",
    "        vec = ft_custom.get_word_vector(word)\n",
    "    return vec"
   ]
  },
  {
   "cell_type": "code",
   "execution_count": null,
   "id": "86b0cdc5",
   "metadata": {},
   "outputs": [],
   "source": [
    "# --- Sentence to vector using SBERT with FastText fallback ---\n",
    "def sentence_to_vector(text):\n",
    "    try:\n",
    "        # SBERT handles semantic embedding\n",
    "        vec = sbert_model.encode(text)\n",
    "        if np.all(vec == 0):\n",
    "            raise ValueError(\"Empty SBERT vector, fallback\")\n",
    "    except:\n",
    "        # fallback to FastText mean\n",
    "        tokens = text.split()\n",
    "        vecs = [get_word_vector(tok) for tok in tokens if tok.strip()]\n",
    "        if len(vecs) == 0:\n",
    "            return np.zeros(ft_custom.get_dimension())\n",
    "        vec = np.mean(vecs, axis=0)\n",
    "    return vec"
   ]
  },
  {
   "cell_type": "code",
   "execution_count": null,
   "id": "8440a9ef",
   "metadata": {},
   "outputs": [],
   "source": [
    "# --- Compute sentence vectors ---\n",
    "vectors = []\n",
    "\n",
    "for t in tqdm(texts, desc=\"Computing sentence vectors\"):\n",
    "    vectors.append(sentence_to_vector(t))\n",
    "\n",
    "vectors = np.array(vectors)\n",
    "vectors_normalized = normalize(vectors, norm=\"l2\")"
   ]
  },
  {
   "cell_type": "code",
   "execution_count": null,
   "id": "fb986838",
   "metadata": {},
   "outputs": [],
   "source": [
    "# --- Save vectors and attach to DataFrame ---\n",
    "np.save(\"vectors.npy\", vectors_normalized)\n",
    "\n",
    "# Save in original\n",
    "# df[\"vector\"] = list(vectors_normalized)\n",
    "# df.to_pickle(\"df_with_vectors.pkl\")\n",
    "\n",
    "# Save in New\n",
    "new_df = pd.DataFrame({\"vector\": list(vectors_normalized)})\n",
    "# new_df.to_pickle(\"embeddings.pkl\")\n",
    "new_df.to_csv(\"embeddings.csv\")"
   ]
  }
 ],
 "metadata": {
  "kernelspec": {
   "display_name": "venv",
   "language": "python",
   "name": "python3"
  },
  "language_info": {
   "codemirror_mode": {
    "name": "ipython",
    "version": 3
   },
   "file_extension": ".py",
   "mimetype": "text/x-python",
   "name": "python",
   "nbconvert_exporter": "python",
   "pygments_lexer": "ipython3",
   "version": "3.12.2"
  }
 },
 "nbformat": 4,
 "nbformat_minor": 5
}
