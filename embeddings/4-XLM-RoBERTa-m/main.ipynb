{
 "cells": [
  {
   "cell_type": "code",
   "execution_count": 1,
   "id": "9653f929",
   "metadata": {},
   "outputs": [
    {
     "name": "stderr",
     "output_type": "stream",
     "text": [
      "c:\\Not Default\\College Academics\\Sem5\\capstone\\venv\\Lib\\site-packages\\tqdm\\auto.py:21: TqdmWarning: IProgress not found. Please update jupyter and ipywidgets. See https://ipywidgets.readthedocs.io/en/stable/user_install.html\n",
      "  from .autonotebook import tqdm as notebook_tqdm\n"
     ]
    }
   ],
   "source": [
    "import torch\n",
    "from transformers import AutoTokenizer, AutoModel\n",
    "import numpy as np\n",
    "from tqdm import tqdm\n",
    "import pandas as pd"
   ]
  },
  {
   "cell_type": "code",
   "execution_count": null,
   "id": "8bd9abc2",
   "metadata": {},
   "outputs": [],
   "source": [
    "# -----------------------\n",
    "# 1. Load XLM-R (large)\n",
    "# -----------------------\n",
    "def load_xlmr(model_name=\"FacebookAI/xlm-roberta-large\", device=None):\n",
    "    if device is None:\n",
    "        device = \"cuda\" if torch.cuda.is_available() else \"cpu\"\n",
    "    tokenizer = AutoTokenizer.from_pretrained(model_name)\n",
    "    model = AutoModel.from_pretrained(model_name).to(device)\n",
    "    model.eval()\n",
    "    return tokenizer, model, device"
   ]
  },
  {
   "cell_type": "code",
   "execution_count": 3,
   "id": "d34abec0",
   "metadata": {},
   "outputs": [],
   "source": [
    "# -----------------------\n",
    "# 2. Get embeddings\n",
    "# -----------------------\n",
    "def get_batch_embeddings(texts, tokenizer, model, device, pooling=\"mean\"):\n",
    "    encodings = tokenizer(\n",
    "        texts,\n",
    "        padding=True,\n",
    "        truncation=True,\n",
    "        return_tensors=\"pt\",\n",
    "        max_length=128,\n",
    "    ).to(device)\n",
    "\n",
    "    with torch.no_grad():\n",
    "        outputs = model(**encodings, output_hidden_states=True)\n",
    "        hidden_states = outputs.last_hidden_state\n",
    "\n",
    "    if pooling == \"cls\":\n",
    "        embeddings = hidden_states[:, 0, :]\n",
    "    elif pooling == \"mean\":\n",
    "        mask = encodings[\"attention_mask\"].unsqueeze(-1).expand(hidden_states.size())\n",
    "        masked_hidden = hidden_states * mask\n",
    "        embeddings = masked_hidden.sum(dim=1) / mask.sum(dim=1)\n",
    "    else:\n",
    "        raise ValueError(\"pooling must be 'cls' or 'mean'\")\n",
    "\n",
    "    return embeddings.cpu()"
   ]
  },
  {
   "cell_type": "code",
   "execution_count": 4,
   "id": "b78dbf35",
   "metadata": {},
   "outputs": [],
   "source": [
    "# -----------------------\n",
    "# 3. Shift transformation (make embeddings strictly positive)\n",
    "# -----------------------\n",
    "def shift_to_positive(embeddings, eps=1e-6):\n",
    "    if isinstance(embeddings, torch.Tensor):\n",
    "        min_vals = embeddings.min(dim=0).values\n",
    "        shift = -min_vals + eps\n",
    "        return embeddings + shift\n",
    "    elif isinstance(embeddings, np.ndarray):\n",
    "        min_vals = embeddings.min(axis=0)\n",
    "        shift = -min_vals + eps\n",
    "        return embeddings + shift\n",
    "    else:\n",
    "        raise TypeError(\"embeddings must be torch.Tensor or np.ndarray\")"
   ]
  },
  {
   "cell_type": "code",
   "execution_count": null,
   "id": "d0a0249c",
   "metadata": {},
   "outputs": [],
   "source": [
    "# -----------------------\n",
    "# 4. Pipeline function\n",
    "# -----------------------\n",
    "def embed_csv(\n",
    "    csv_path,\n",
    "    text_col=\"Sentence\",\n",
    "    batch_size=16,\n",
    "    pooling=\"mean\",\n",
    "    save_path=\"embeddings.csv\",\n",
    "    model_name=\"FacebookAI/xlm-roberta-large\",\n",
    "):\n",
    "    df = pd.read_csv(csv_path)\n",
    "\n",
    "    if text_col not in df.columns:\n",
    "        raise ValueError(f\"CSV must have a '{text_col}' column.\")\n",
    "\n",
    "    texts = df[text_col].astype(str).tolist()\n",
    "\n",
    "    tokenizer, model, device = load_xlmr(model_name)\n",
    "\n",
    "    all_embeddings = []\n",
    "    for i in tqdm(range(0, len(texts), batch_size), desc=\"Embedding batches\"):\n",
    "        batch = texts[i : i + batch_size]\n",
    "        batch_embeds = get_batch_embeddings(batch, tokenizer, model, device, pooling)\n",
    "        all_embeddings.append(batch_embeds)\n",
    "\n",
    "    all_embeddings = torch.cat(all_embeddings, dim=0)\n",
    "\n",
    "    positive_embeddings = shift_to_positive(all_embeddings)\n",
    "\n",
    "    emb_cols = [f\"emb_{i}\" for i in range(positive_embeddings.shape[1])]\n",
    "    emb_df = pd.DataFrame(positive_embeddings, columns=emb_cols)\n",
    "    emb_df.to_csv(save_path, index=False)\n",
    "    print(f\"Saved embeddings to {save_path}\")\n",
    "\n",
    "    return positive_embeddings"
   ]
  },
  {
   "cell_type": "code",
   "execution_count": null,
   "id": "a8e2e9be",
   "metadata": {},
   "outputs": [
    {
     "name": "stdout",
     "output_type": "stream",
     "text": [
      "cuda\n"
     ]
    },
    {
     "name": "stderr",
     "output_type": "stream",
     "text": [
      "Embedding batches: 100%|██████████| 5004/5004 [03:01<00:00, 27.57it/s]\n"
     ]
    },
    {
     "name": "stdout",
     "output_type": "stream",
     "text": [
      "Saved embeddings to pos_embeddings.csv\n",
      "Final embeddings shape: torch.Size([20015, 1024])\n"
     ]
    }
   ],
   "source": [
    "# -----------------------\n",
    "# Example usage\n",
    "# -----------------------\n",
    "if __name__ == \"__main__\":\n",
    "    csv_file = \"../../data/En-Ba-Dataset(20k_4)/dataset_cleaned.csv\"\n",
    "\n",
    "    embeddings = embed_csv(\n",
    "        csv_file,\n",
    "        text_col=\"Sentence\",\n",
    "        batch_size=4,\n",
    "        pooling=\"mean\",\n",
    "        save_path=\"embeddings.csv\",\n",
    "    )\n",
    "\n",
    "    print(\"Final embeddings shape:\", embeddings.shape)"
   ]
  }
 ],
 "metadata": {
  "kernelspec": {
   "display_name": "venv",
   "language": "python",
   "name": "python3"
  },
  "language_info": {
   "codemirror_mode": {
    "name": "ipython",
    "version": 3
   },
   "file_extension": ".py",
   "mimetype": "text/x-python",
   "name": "python",
   "nbconvert_exporter": "python",
   "pygments_lexer": "ipython3",
   "version": "3.12.2"
  }
 },
 "nbformat": 4,
 "nbformat_minor": 5
}
