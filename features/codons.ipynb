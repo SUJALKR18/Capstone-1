{
 "cells": [
  {
   "cell_type": "code",
   "execution_count": 144,
   "id": "e7a8d07a",
   "metadata": {},
   "outputs": [
    {
     "data": {
      "text/plain": [
       "'\\nRNA Codon & Amino Acid Feature Extraction Pipeline\\n--------------------------------------------------\\n\\nDescription:\\nThis script converts numerical embeddings into binary, DNA, and RNA sequences.\\nThen, it computes codon-level and amino-acid-level features and saves them into CSV files.\\n\\nOutput files:\\n    - features1.csv: Codon probability features\\n    - features2.csv: Amino acid normalized features\\n    - features3.csv: Combined features\\n'"
      ]
     },
     "execution_count": 144,
     "metadata": {},
     "output_type": "execute_result"
    }
   ],
   "source": [
    "\"\"\"\n",
    "RNA Codon & Amino Acid Feature Extraction Pipeline\n",
    "--------------------------------------------------\n",
    "\n",
    "Description:\n",
    "This script converts numerical embeddings into binary, DNA, and RNA sequences.\n",
    "Then, it computes codon-level and amino-acid-level features and saves them into CSV files.\n",
    "\n",
    "Output files:\n",
    "    - features1.csv: Codon probability features\n",
    "    - features2.csv: Amino acid normalized features\n",
    "    - features3.csv: Combined features\n",
    "\"\"\""
   ]
  },
  {
   "cell_type": "code",
   "execution_count": 145,
   "id": "f24b2ace",
   "metadata": {},
   "outputs": [],
   "source": [
    "# ==========================================================\n",
    "# Imports\n",
    "# ==========================================================\n",
    "import pandas as pd\n",
    "from itertools import product\n",
    "from tqdm import tqdm"
   ]
  },
  {
   "cell_type": "code",
   "execution_count": null,
   "id": "c9b80ff7",
   "metadata": {},
   "outputs": [],
   "source": [
    "# ==========================================================\n",
    "# Configuration\n",
    "# ==========================================================\n",
    "INPUT_PATH = \"../embeddings/embeddings_final.csv\"\n",
    "CODON_FEATURES_FILE = \"feature1.csv\"\n",
    "AMINO_FEATURES_FILE = \"feature2.csv\"\n",
    "FINAL_FEATURES_FILE = \"feature3.csv\"\n",
    "\n",
    "NUMBER_OF_BITS = 16\n",
    "CODON_LENGTH = 3\n",
    "\n",
    "BINARY_TO_DNA_MAP = {'00': 'A', '01': 'G', '10': 'C', '11': 'T'}\n",
    "DNA_TO_RNA = str.maketrans('T', 'U')\n",
    "\n",
    "CODON_TO_AMINO = {\n",
    "    'UUU': 'Phe', 'UUC': 'Phe',\n",
    "    'UUA': 'Leu', 'UUG': 'Leu', 'CUU': 'Leu', 'CUC': 'Leu', 'CUA': 'Leu', 'CUG': 'Leu',\n",
    "    'UCU': 'Ser', 'UCC': 'Ser', 'UCA': 'Ser', 'UCG': 'Ser', 'AGU': 'Ser', 'AGC': 'Ser',\n",
    "    'AUU': 'Ile', 'AUC': 'Ile', 'AUA': 'Ile',\n",
    "    'AUG': 'Met',\n",
    "    'GUU': 'Val', 'GUC': 'Val', 'GUA': 'Val', 'GUG': 'Val',\n",
    "    'CCU': 'Pro', 'CCC': 'Pro', 'CCA': 'Pro', 'CCG': 'Pro',\n",
    "    'ACU': 'Thr', 'ACC': 'Thr', 'ACA': 'Thr', 'ACG': 'Thr',\n",
    "    'GCU': 'Ala', 'GCC': 'Ala', 'GCA': 'Ala', 'GCG': 'Ala',\n",
    "    'UAU': 'Tyr', 'UAC': 'Tyr',\n",
    "    'CAU': 'His', 'CAC': 'His',\n",
    "    'CAA': 'Gln', 'CAG': 'Gln',\n",
    "    'AAU': 'Asn', 'AAC': 'Asn',\n",
    "    'AAA': 'Lys', 'AAG': 'Lys',\n",
    "    'GAU': 'Asp', 'GAC': 'Asp',\n",
    "    'GAA': 'Glu', 'GAG': 'Glu',\n",
    "    'UGU': 'Cys', 'UGC': 'Cys',\n",
    "    'UGG': 'Trp',\n",
    "    'CGU': 'Arg', 'CGC': 'Arg', 'CGA': 'Arg', 'CGG': 'Arg', 'AGA': 'Arg', 'AGG': 'Arg',\n",
    "    'GGU': 'Gly', 'GGC': 'Gly', 'GGA': 'Gly', 'GGG': 'Gly',\n",
    "    'UAA': 'Stop', 'UAG': 'Stop', 'UGA': 'Stop'\n",
    "}\n"
   ]
  },
  {
   "cell_type": "code",
   "execution_count": null,
   "id": "53aa6d3a",
   "metadata": {},
   "outputs": [],
   "source": [
    "# Convert a numeric embedding value to a binary string\n",
    "def convert_to_binary(x: float) -> str:\n",
    "    return format(int(x), f\"0{NUMBER_OF_BITS}b\")"
   ]
  },
  {
   "cell_type": "code",
   "execution_count": 149,
   "id": "fbf95bef",
   "metadata": {},
   "outputs": [],
   "source": [
    "# Convert binary string to DNA sequence\n",
    "def binary_to_dna(binary_str: str) -> str:\n",
    "    return ''.join(BINARY_TO_DNA_MAP[binary_str[i:i+2]] for i in range(0, len(binary_str), 2))"
   ]
  },
  {
   "cell_type": "code",
   "execution_count": 150,
   "id": "478afe91",
   "metadata": {},
   "outputs": [],
   "source": [
    "# Convert DNA sequence to RNA sequence\n",
    "def dna_to_rna(dna_seq: str) -> str:\n",
    "    return dna_seq.translate(DNA_TO_RNA)"
   ]
  },
  {
   "cell_type": "code",
   "execution_count": 151,
   "id": "d6ccb8ae",
   "metadata": {},
   "outputs": [],
   "source": [
    "# Concatenate all RNA columns in a row into a single RNA sequence string\n",
    "def join_rna_row(row: pd.Series) -> str:\n",
    "    return ''.join(row.values)"
   ]
  },
  {
   "cell_type": "code",
   "execution_count": 152,
   "id": "db639bde",
   "metadata": {},
   "outputs": [],
   "source": [
    "# Return all possible RNA codons\n",
    "def generate_codons() -> list:\n",
    "    return [''.join(p) for p in product('AGCU', repeat=3)]"
   ]
  },
  {
   "cell_type": "code",
   "execution_count": 153,
   "id": "26a85f09",
   "metadata": {},
   "outputs": [],
   "source": [
    "# Compute codon frequency distribution for one RNA sequence\n",
    "def compute_codon_probabilities(sequence: str, codons: list, all_codon_counts: list) -> dict:\n",
    "    codon_counts = {c: 0 for c in codons}\n",
    "    codon_list = [sequence[i:i+CODON_LENGTH] for i in range(0, len(sequence), CODON_LENGTH)]\n",
    "    total_codons = len(codon_list)\n",
    "\n",
    "    for codon in codon_list:\n",
    "        if codon in codon_counts:\n",
    "            codon_counts[codon] += 1\n",
    "\n",
    "    all_codon_counts.append(codon_counts)\n",
    "    return {c: codon_counts[c] / total_codons for c in codons}"
   ]
  },
  {
   "cell_type": "code",
   "execution_count": 154,
   "id": "bf33a1df",
   "metadata": {},
   "outputs": [],
   "source": [
    "# Aggregate codon frequencies into amino acid-level normalized features\n",
    "def compute_amino_features(codon_count_row: dict, amino_acids: list) -> dict:\n",
    "    amino_counts = {aa: 0.0 for aa in amino_acids}\n",
    "\n",
    "    for codon, freq in codon_count_row.items():\n",
    "        amino = CODON_TO_AMINO[codon]\n",
    "        amino_counts[amino] += freq\n",
    "\n",
    "    return {aa: amino_counts[aa] / 8192 for aa in amino_acids}\n"
   ]
  },
  {
   "cell_type": "code",
   "execution_count": 155,
   "id": "3f7d190d",
   "metadata": {},
   "outputs": [],
   "source": [
    "# ==========================================================\n",
    "# Main Pipeline\n",
    "# ==========================================================\n",
    "def main():\n",
    "    print(\"Loading embeddings...\")\n",
    "    df = pd.read_csv(INPUT_PATH)\n",
    "\n",
    "    print(\"Converting numeric values to binary...\")\n",
    "    binary_df = df.map(convert_to_binary)\n",
    "\n",
    "    print(\"Translating binary → DNA → RNA...\")\n",
    "    dna_df = binary_df.map(binary_to_dna)\n",
    "    rna_df = dna_df.map(dna_to_rna)\n",
    "\n",
    "    print(\"Combining RNA sequences row-wise...\")\n",
    "    final_rna_sequence = rna_df.apply(join_rna_row, axis=1)\n",
    "\n",
    "    print(\"Generating codon frequency features...\")\n",
    "    codons = generate_codons()\n",
    "    all_codon_counts = []\n",
    "    codon_features = [\n",
    "        compute_codon_probabilities(seq, codons, all_codon_counts)\n",
    "        for seq in tqdm(final_rna_sequence, desc=\"Processing RNA sequences\")\n",
    "    ]\n",
    "\n",
    "    codon_features_df = pd.DataFrame(codon_features)\n",
    "    codon_features_df.to_csv(CODON_FEATURES_FILE, index=False)\n",
    "    print(f\"Codon features saved → {CODON_FEATURES_FILE}\")\n",
    "\n",
    "    print(\"Computing amino acid features...\")\n",
    "    amino_acids = sorted(set(CODON_TO_AMINO.values()))\n",
    "    amino_features = [\n",
    "        compute_amino_features(row_codon_count, amino_acids)\n",
    "        for row_codon_count in tqdm(all_codon_counts, desc=\"Computing amino acid features\")\n",
    "    ]\n",
    "\n",
    "    amino_features_df = pd.DataFrame(amino_features)\n",
    "    amino_features_df.to_csv(AMINO_FEATURES_FILE, index=False)\n",
    "    print(f\"Amino acid features saved → {AMINO_FEATURES_FILE}\")\n",
    "\n",
    "    print(\"Combining final feature set...\")\n",
    "    final_features_df = pd.concat([codon_features_df, amino_features_df], axis=1)\n",
    "    final_features_df.to_csv(FINAL_FEATURES_FILE, index=False)\n",
    "    print(f\"Final features saved → {FINAL_FEATURES_FILE}\")\n",
    "\n",
    "    print(\"Pipeline completed successfully!\")"
   ]
  },
  {
   "cell_type": "code",
   "execution_count": 156,
   "id": "c80a311a",
   "metadata": {},
   "outputs": [
    {
     "name": "stdout",
     "output_type": "stream",
     "text": [
      "Loading embeddings...\n",
      "Converting numeric values to binary...\n",
      "Translating binary → DNA → RNA...\n",
      "Combining RNA sequences row-wise...\n",
      "Generating codon frequency features...\n"
     ]
    },
    {
     "name": "stderr",
     "output_type": "stream",
     "text": [
      "Processing RNA sequences: 100%|██████████| 20015/20015 [00:51<00:00, 384.91it/s]\n"
     ]
    },
    {
     "name": "stdout",
     "output_type": "stream",
     "text": [
      "Codon features saved → feature1.csv\n",
      "Computing amino acid features...\n"
     ]
    },
    {
     "name": "stderr",
     "output_type": "stream",
     "text": [
      "Computing amino acid features: 100%|██████████| 20015/20015 [00:00<00:00, 43568.09it/s]\n"
     ]
    },
    {
     "name": "stdout",
     "output_type": "stream",
     "text": [
      "Amino acid features saved → feature2.csv\n",
      "Combining final feature set...\n",
      "Final features saved → feature3.csv\n",
      "Pipeline completed successfully!\n"
     ]
    }
   ],
   "source": [
    "# ==========================================================\n",
    "# Entry Point\n",
    "# ==========================================================\n",
    "if __name__ == \"__main__\":\n",
    "    main()"
   ]
  }
 ],
 "metadata": {
  "kernelspec": {
   "display_name": "venv",
   "language": "python",
   "name": "python3"
  },
  "language_info": {
   "codemirror_mode": {
    "name": "ipython",
    "version": 3
   },
   "file_extension": ".py",
   "mimetype": "text/x-python",
   "name": "python",
   "nbconvert_exporter": "python",
   "pygments_lexer": "ipython3",
   "version": "3.13.8"
  }
 },
 "nbformat": 4,
 "nbformat_minor": 5
}
