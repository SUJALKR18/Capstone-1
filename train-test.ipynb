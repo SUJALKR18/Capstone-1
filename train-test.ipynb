{
 "cells": [
  {
   "cell_type": "code",
   "execution_count": null,
   "id": "72a791c7",
   "metadata": {},
   "outputs": [],
   "source": [
    "# ========================================\n",
    "# 0. Setup\n",
    "# ========================================\n",
    "import torch\n",
    "import pandas as pd\n",
    "import numpy as np\n",
    "import matplotlib.pyplot as plt\n",
    "from sklearn.model_selection import train_test_split\n",
    "from sklearn.metrics import accuracy_score, classification_report\n",
    "\n",
    "from sklearn.linear_model import LogisticRegression\n",
    "from sklearn.ensemble import RandomForestClassifier\n",
    "from xgboost import XGBClassifier\n",
    "\n",
    "from sklearn.neural_network import MLPClassifier\n",
    "from sklearn.svm import SVC\n",
    "\n",
    "device = \"cuda\" if torch.cuda.is_available() else \"cpu\"\n",
    "print(\"Using device:\", device)"
   ]
  },
  {
   "cell_type": "code",
   "execution_count": null,
   "id": "2cda6ede",
   "metadata": {},
   "outputs": [],
   "source": [
    "# ========================================\n",
    "# 1. Load embeddings + labels\n",
    "# ========================================\n",
    "# embeddings file\n",
    "emb_df = pd.read_csv(\"embeddings/7-geminiApi-m/embeddings_int.csv\")\n",
    "\n",
    "# original dataset with labels\n",
    "orig_df = pd.read_csv(\"data/En-Ba-Dataset(20k_4)/dataset_cleaned.csv\")\n",
    "\n",
    "if \"Label\" not in orig_df.columns:\n",
    "    raise ValueError(\"Original dataset must have a 'Label' column.\")\n",
    "\n",
    "# ensure alignment\n",
    "assert len(emb_df) == len(orig_df), \"Row mismatch between embeddings and dataset!\""
   ]
  },
  {
   "cell_type": "code",
   "execution_count": null,
   "id": "4e6ec934",
   "metadata": {},
   "outputs": [],
   "source": [
    "# ========================================\n",
    "# 2. Prepare embeddings for training\n",
    "# ========================================\n",
    "X = emb_df.values\n",
    "y = orig_df[\"Label\"].values\n",
    "\n",
    "print(\"Feature shape:\", X.shape)\n",
    "print(\"Labels shape:\", y.shape)\n",
    "print(\"Unique labels:\", np.unique(y))"
   ]
  },
  {
   "cell_type": "code",
   "execution_count": null,
   "id": "6bad8aa5",
   "metadata": {},
   "outputs": [],
   "source": [
    "# ========================================\n",
    "# 3. Train-Test Split\n",
    "# ========================================\n",
    "X_train, X_test, y_train, y_test = train_test_split(\n",
    "    X, y, test_size=0.2, random_state=42, stratify=y\n",
    ")\n",
    "\n",
    "print(\"Train size:\", X_train.shape, \"Test size:\", X_test.shape)"
   ]
  },
  {
   "cell_type": "code",
   "execution_count": null,
   "id": "1341c5c3",
   "metadata": {},
   "outputs": [],
   "source": [
    "# ========================================\n",
    "# 4. Train multiple models\n",
    "# ========================================\n",
    "models = {\n",
    "    \"LogReg\": LogisticRegression(max_iter=1000, solver=\"lbfgs\", n_jobs=-1),\n",
    "    \"RandomForest\": RandomForestClassifier(n_estimators=200, n_jobs=-1),\n",
    "    \"XGBoost\": XGBClassifier(\n",
    "        n_estimators=300,\n",
    "        learning_rate=0.1,\n",
    "        max_depth=6,\n",
    "        subsample=0.8,\n",
    "        colsample_bytree=0.8,\n",
    "        tree_method=\"hist\",\n",
    "        device=\"cuda\" if device == \"cuda\" else \"cpu\",\n",
    "        n_jobs=-1,\n",
    "        eval_metric=\"mlogloss\",\n",
    "    ),\n",
    "    \"MLP\": MLPClassifier(hidden_layer_sizes=(512, 256), max_iter=50),\n",
    "    # \"SVM\": SVC(kernel=\"linear\"),\n",
    "}\n",
    "\n",
    "results = {}\n",
    "for name, model in models.items():\n",
    "    print(f\"\\nTraining {name}...\")\n",
    "    model.fit(X_train, y_train)\n",
    "    preds = model.predict(X_test)\n",
    "    acc = accuracy_score(y_test, preds)\n",
    "    results[name] = (acc, preds)\n",
    "    print(f\"{name} Accuracy: {acc:.4f}\")\n",
    "    print(classification_report(y_test, preds))"
   ]
  },
  {
   "cell_type": "code",
   "execution_count": null,
   "id": "a9db6d64",
   "metadata": {},
   "outputs": [],
   "source": [
    "# ========================================\n",
    "# 5. Compare Model Accuracies\n",
    "# ========================================\n",
    "accs = {name: acc for name, (acc, _) in results.items()}\n",
    "\n",
    "# --- Accuracy Bar Chart with Labels ---\n",
    "plt.figure(figsize=(8, 5))\n",
    "bars = plt.bar(accs.keys(), accs.values())\n",
    "plt.ylabel(\"Accuracy\")\n",
    "plt.title(\"Model Comparison on Test Set\")\n",
    "\n",
    "# Add value labels above bars\n",
    "for bar in bars:\n",
    "    height = bar.get_height()\n",
    "    plt.text(\n",
    "        bar.get_x() + bar.get_width() / 2,\n",
    "        height + 0.01,\n",
    "        f\"{height:.3f}\",\n",
    "        ha=\"center\",\n",
    "        va=\"bottom\",\n",
    "    )\n",
    "\n",
    "plt.ylim(0, 1.05)\n",
    "plt.show()"
   ]
  }
 ],
 "metadata": {
  "kernelspec": {
   "display_name": "venv",
   "language": "python",
   "name": "python3"
  },
  "language_info": {
   "codemirror_mode": {
    "name": "ipython",
    "version": 3
   },
   "file_extension": ".py",
   "mimetype": "text/x-python",
   "name": "python",
   "nbconvert_exporter": "python",
   "pygments_lexer": "ipython3",
   "version": "3.12.2"
  }
 },
 "nbformat": 4,
 "nbformat_minor": 5
}
